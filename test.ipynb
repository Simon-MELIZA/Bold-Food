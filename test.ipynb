{
 "cells": [
  {
   "cell_type": "code",
   "execution_count": 6,
   "id": "ed39bba8",
   "metadata": {
    "ExecuteTime": {
     "end_time": "2022-07-18T19:14:41.990457Z",
     "start_time": "2022-07-18T19:14:41.985017Z"
    }
   },
   "outputs": [],
   "source": [
    "import pandas as pd\n",
    "import numpy as np"
   ]
  },
  {
   "cell_type": "code",
   "execution_count": 25,
   "id": "d1fd8ced",
   "metadata": {
    "ExecuteTime": {
     "end_time": "2022-07-18T20:29:10.973313Z",
     "start_time": "2022-07-18T20:29:10.944034Z"
    },
    "scrolled": false
   },
   "outputs": [
    {
     "data": {
      "text/html": [
       "<div>\n",
       "<style scoped>\n",
       "    .dataframe tbody tr th:only-of-type {\n",
       "        vertical-align: middle;\n",
       "    }\n",
       "\n",
       "    .dataframe tbody tr th {\n",
       "        vertical-align: top;\n",
       "    }\n",
       "\n",
       "    .dataframe thead th {\n",
       "        text-align: right;\n",
       "    }\n",
       "</style>\n",
       "<table border=\"1\" class=\"dataframe\">\n",
       "  <thead>\n",
       "    <tr style=\"text-align: right;\">\n",
       "      <th></th>\n",
       "      <th>year_month</th>\n",
       "      <th>merchant_name</th>\n",
       "      <th>order_item_delivery_address_region</th>\n",
       "      <th>count_customers</th>\n",
       "    </tr>\n",
       "  </thead>\n",
       "  <tbody>\n",
       "    <tr>\n",
       "      <th>0</th>\n",
       "      <td>2017-01</td>\n",
       "      <td>deliveroo</td>\n",
       "      <td>idf - paris</td>\n",
       "      <td>544</td>\n",
       "    </tr>\n",
       "    <tr>\n",
       "      <th>1</th>\n",
       "      <td>2017-01</td>\n",
       "      <td>deliveroo</td>\n",
       "      <td>idf - rest of idf</td>\n",
       "      <td>121</td>\n",
       "    </tr>\n",
       "    <tr>\n",
       "      <th>2</th>\n",
       "      <td>2017-01</td>\n",
       "      <td>deliveroo</td>\n",
       "      <td>other region</td>\n",
       "      <td>636</td>\n",
       "    </tr>\n",
       "    <tr>\n",
       "      <th>3</th>\n",
       "      <td>2017-01</td>\n",
       "      <td>just eat</td>\n",
       "      <td>idf - paris</td>\n",
       "      <td>167</td>\n",
       "    </tr>\n",
       "    <tr>\n",
       "      <th>4</th>\n",
       "      <td>2017-01</td>\n",
       "      <td>just eat</td>\n",
       "      <td>idf - rest of idf</td>\n",
       "      <td>358</td>\n",
       "    </tr>\n",
       "  </tbody>\n",
       "</table>\n",
       "</div>"
      ],
      "text/plain": [
       "  year_month merchant_name order_item_delivery_address_region  count_customers\n",
       "0    2017-01     deliveroo                        idf - paris              544\n",
       "1    2017-01     deliveroo                  idf - rest of idf              121\n",
       "2    2017-01     deliveroo                       other region              636\n",
       "3    2017-01      just eat                        idf - paris              167\n",
       "4    2017-01      just eat                  idf - rest of idf              358"
      ]
     },
     "execution_count": 25,
     "metadata": {},
     "output_type": "execute_result"
    }
   ],
   "source": [
    "df_clients = pd.read_csv(r\"C:\\Users\\vanes\\Documents\\Formation DATA ANALYST by DATABIRD\\Projet final BOLT\\Data\\databird-synthesized-customers-aggregated-extract.csv\"\n",
    "                )\n",
    "df_clients.head()"
   ]
  },
  {
   "cell_type": "code",
   "execution_count": 28,
   "id": "aa404854",
   "metadata": {
    "ExecuteTime": {
     "end_time": "2022-07-18T20:37:22.330306Z",
     "start_time": "2022-07-18T20:37:22.318882Z"
    }
   },
   "outputs": [
    {
     "data": {
      "text/plain": [
       "(378, 4)"
      ]
     },
     "execution_count": 28,
     "metadata": {},
     "output_type": "execute_result"
    }
   ],
   "source": [
    "df_clients.shape # nbres de lignes et de colonnes"
   ]
  },
  {
   "cell_type": "code",
   "execution_count": 31,
   "id": "aeb7cdbe",
   "metadata": {
    "ExecuteTime": {
     "end_time": "2022-07-18T20:42:16.431593Z",
     "start_time": "2022-07-18T20:42:16.396869Z"
    }
   },
   "outputs": [
    {
     "data": {
      "text/plain": [
       "year_month                            object\n",
       "merchant_name                         object\n",
       "order_item_delivery_address_region    object\n",
       "count_customers                        int64\n",
       "dtype: object"
      ]
     },
     "execution_count": 31,
     "metadata": {},
     "output_type": "execute_result"
    }
   ],
   "source": [
    "df_clients.dtypes # Types de chaques colonnes"
   ]
  },
  {
   "cell_type": "code",
   "execution_count": 26,
   "id": "3b47c373",
   "metadata": {
    "ExecuteTime": {
     "end_time": "2022-07-18T20:29:36.852622Z",
     "start_time": "2022-07-18T20:29:32.780857Z"
    },
    "scrolled": false
   },
   "outputs": [
    {
     "data": {
      "text/html": [
       "<div>\n",
       "<style scoped>\n",
       "    .dataframe tbody tr th:only-of-type {\n",
       "        vertical-align: middle;\n",
       "    }\n",
       "\n",
       "    .dataframe tbody tr th {\n",
       "        vertical-align: top;\n",
       "    }\n",
       "\n",
       "    .dataframe thead th {\n",
       "        text-align: right;\n",
       "    }\n",
       "</style>\n",
       "<table border=\"1\" class=\"dataframe\">\n",
       "  <thead>\n",
       "    <tr style=\"text-align: right;\">\n",
       "      <th></th>\n",
       "      <th>f0_</th>\n",
       "      <th>id_order</th>\n",
       "      <th>product_name</th>\n",
       "      <th>product_description</th>\n",
       "      <th>merchant_name</th>\n",
       "    </tr>\n",
       "  </thead>\n",
       "  <tbody>\n",
       "    <tr>\n",
       "      <th>0</th>\n",
       "      <td>2017-01-01</td>\n",
       "      <td>AVkmcB3KFSf772cTh6V2M9yGwuQ=</td>\n",
       "      <td>toast goody woody</td>\n",
       "      <td>NaN</td>\n",
       "      <td>deliveroo</td>\n",
       "    </tr>\n",
       "    <tr>\n",
       "      <th>1</th>\n",
       "      <td>2017-01-01</td>\n",
       "      <td>CQeMFF72l4u80Ae4mnVLhnTzqx0=</td>\n",
       "      <td>soupe miso</td>\n",
       "      <td>sauce soja</td>\n",
       "      <td>deliveroo</td>\n",
       "    </tr>\n",
       "    <tr>\n",
       "      <th>2</th>\n",
       "      <td>2017-01-01</td>\n",
       "      <td>CQeMFF72l4u80Ae4mnVLhnTzqx0=</td>\n",
       "      <td>salmon lovers</td>\n",
       "      <td>sauce soja sucree, baguettes, sauce soja sucre...</td>\n",
       "      <td>deliveroo</td>\n",
       "    </tr>\n",
       "    <tr>\n",
       "      <th>3</th>\n",
       "      <td>2017-01-01</td>\n",
       "      <td>CQeMFF72l4u80Ae4mnVLhnTzqx0=</td>\n",
       "      <td>super mix</td>\n",
       "      <td>any three skewers with lamb &amp; chicken doner se...</td>\n",
       "      <td>deliveroo</td>\n",
       "    </tr>\n",
       "    <tr>\n",
       "      <th>4</th>\n",
       "      <td>2017-01-01</td>\n",
       "      <td>CQeMFF72l4u80Ae4mnVLhnTzqx0=</td>\n",
       "      <td>salade de choux</td>\n",
       "      <td>NaN</td>\n",
       "      <td>deliveroo</td>\n",
       "    </tr>\n",
       "  </tbody>\n",
       "</table>\n",
       "</div>"
      ],
      "text/plain": [
       "          f0_                      id_order       product_name  \\\n",
       "0  2017-01-01  AVkmcB3KFSf772cTh6V2M9yGwuQ=  toast goody woody   \n",
       "1  2017-01-01  CQeMFF72l4u80Ae4mnVLhnTzqx0=         soupe miso   \n",
       "2  2017-01-01  CQeMFF72l4u80Ae4mnVLhnTzqx0=      salmon lovers   \n",
       "3  2017-01-01  CQeMFF72l4u80Ae4mnVLhnTzqx0=          super mix   \n",
       "4  2017-01-01  CQeMFF72l4u80Ae4mnVLhnTzqx0=    salade de choux   \n",
       "\n",
       "                                 product_description merchant_name  \n",
       "0                                                NaN     deliveroo  \n",
       "1                                         sauce soja     deliveroo  \n",
       "2  sauce soja sucree, baguettes, sauce soja sucre...     deliveroo  \n",
       "3  any three skewers with lamb & chicken doner se...     deliveroo  \n",
       "4                                                NaN     deliveroo  "
      ]
     },
     "execution_count": 26,
     "metadata": {},
     "output_type": "execute_result"
    }
   ],
   "source": [
    "df_produits = pd.read_csv(r\"C:\\Users\\vanes\\Documents\\Formation DATA ANALYST by DATABIRD\\Projet final BOLT\\Data\\databird-synthesized-products-extract.csv\")\n",
    "df_produits.head()"
   ]
  },
  {
   "cell_type": "code",
   "execution_count": 32,
   "id": "d9679037",
   "metadata": {
    "ExecuteTime": {
     "end_time": "2022-07-18T20:43:27.959218Z",
     "start_time": "2022-07-18T20:43:27.934994Z"
    }
   },
   "outputs": [
    {
     "data": {
      "text/plain": [
       "(1711616, 5)"
      ]
     },
     "execution_count": 32,
     "metadata": {},
     "output_type": "execute_result"
    }
   ],
   "source": [
    "df_produits.shape # nbres de lignes et de colonnes"
   ]
  },
  {
   "cell_type": "code",
   "execution_count": 33,
   "id": "95c7a231",
   "metadata": {
    "ExecuteTime": {
     "end_time": "2022-07-18T20:44:10.334663Z",
     "start_time": "2022-07-18T20:44:10.321561Z"
    }
   },
   "outputs": [
    {
     "data": {
      "text/plain": [
       "f0_                    object\n",
       "id_order               object\n",
       "product_name           object\n",
       "product_description    object\n",
       "merchant_name          object\n",
       "dtype: object"
      ]
     },
     "execution_count": 33,
     "metadata": {},
     "output_type": "execute_result"
    }
   ],
   "source": [
    "df_produits.dtypes # Types de chaques colonnes"
   ]
  },
  {
   "cell_type": "code",
   "execution_count": 27,
   "id": "fa60fb0a",
   "metadata": {
    "ExecuteTime": {
     "end_time": "2022-07-18T20:31:20.609010Z",
     "start_time": "2022-07-18T20:31:16.057579Z"
    }
   },
   "outputs": [
    {
     "data": {
      "text/html": [
       "<div>\n",
       "<style scoped>\n",
       "    .dataframe tbody tr th:only-of-type {\n",
       "        vertical-align: middle;\n",
       "    }\n",
       "\n",
       "    .dataframe tbody tr th {\n",
       "        vertical-align: top;\n",
       "    }\n",
       "\n",
       "    .dataframe thead th {\n",
       "        text-align: right;\n",
       "    }\n",
       "</style>\n",
       "<table border=\"1\" class=\"dataframe\">\n",
       "  <thead>\n",
       "    <tr style=\"text-align: right;\">\n",
       "      <th></th>\n",
       "      <th>row_nb</th>\n",
       "      <th>synthetic_gender</th>\n",
       "      <th>synthetic_age_generation</th>\n",
       "      <th>is_loyalty_deliveroo</th>\n",
       "      <th>merchant_name</th>\n",
       "      <th>order_date</th>\n",
       "      <th>order_time</th>\n",
       "      <th>order_total_paid</th>\n",
       "      <th>order_currency</th>\n",
       "      <th>payment_method_name</th>\n",
       "      <th>...</th>\n",
       "      <th>order_total_fees</th>\n",
       "      <th>order_total_promo</th>\n",
       "      <th>seller_name</th>\n",
       "      <th>seller_category_name</th>\n",
       "      <th>order_item_delivery_address_region</th>\n",
       "      <th>order_item_delivery_address_subregion</th>\n",
       "      <th>order_item_delivery_address_city</th>\n",
       "      <th>is_customer_month_ubereats</th>\n",
       "      <th>is_customer_month_justeat</th>\n",
       "      <th>is_customer_month_deliveroo</th>\n",
       "    </tr>\n",
       "  </thead>\n",
       "  <tbody>\n",
       "    <tr>\n",
       "      <th>0</th>\n",
       "      <td>1</td>\n",
       "      <td>2.0</td>\n",
       "      <td>Gen. Y - [1980-1994]</td>\n",
       "      <td>NaN</td>\n",
       "      <td>deliveroo</td>\n",
       "      <td>2020-01-15</td>\n",
       "      <td>12:00:00</td>\n",
       "      <td>10.3</td>\n",
       "      <td>eur</td>\n",
       "      <td>NaN</td>\n",
       "      <td>...</td>\n",
       "      <td>0.0</td>\n",
       "      <td>0.0</td>\n",
       "      <td>thai in box</td>\n",
       "      <td>asian - thai</td>\n",
       "      <td>ile de france</td>\n",
       "      <td>hauts de seine</td>\n",
       "      <td>sevres</td>\n",
       "      <td>0</td>\n",
       "      <td>0</td>\n",
       "      <td>1</td>\n",
       "    </tr>\n",
       "    <tr>\n",
       "      <th>1</th>\n",
       "      <td>2</td>\n",
       "      <td>1.0</td>\n",
       "      <td>Gen. Z - [1995-2010]</td>\n",
       "      <td>NaN</td>\n",
       "      <td>uber eats</td>\n",
       "      <td>2019-01-24</td>\n",
       "      <td>19:00:00</td>\n",
       "      <td>7.6</td>\n",
       "      <td>eur</td>\n",
       "      <td>payment card - visa</td>\n",
       "      <td>...</td>\n",
       "      <td>2.5</td>\n",
       "      <td>5.0</td>\n",
       "      <td>nanbab - villeurbanne</td>\n",
       "      <td>asian - indian</td>\n",
       "      <td>auvergne rhone alpes</td>\n",
       "      <td>rhone</td>\n",
       "      <td>villeurbanne</td>\n",
       "      <td>1</td>\n",
       "      <td>0</td>\n",
       "      <td>1</td>\n",
       "    </tr>\n",
       "    <tr>\n",
       "      <th>2</th>\n",
       "      <td>3</td>\n",
       "      <td>1.0</td>\n",
       "      <td>Gen. Z - [1995-2010]</td>\n",
       "      <td>NaN</td>\n",
       "      <td>uber eats</td>\n",
       "      <td>2020-02-05</td>\n",
       "      <td>12:00:00</td>\n",
       "      <td>10.6</td>\n",
       "      <td>eur</td>\n",
       "      <td>paypal</td>\n",
       "      <td>...</td>\n",
       "      <td>3.7</td>\n",
       "      <td>0.0</td>\n",
       "      <td>los tacos</td>\n",
       "      <td>latin american - mexican</td>\n",
       "      <td>grand est</td>\n",
       "      <td>meurthe et moselle</td>\n",
       "      <td>maxeville</td>\n",
       "      <td>1</td>\n",
       "      <td>0</td>\n",
       "      <td>0</td>\n",
       "    </tr>\n",
       "    <tr>\n",
       "      <th>3</th>\n",
       "      <td>4</td>\n",
       "      <td>1.0</td>\n",
       "      <td>Gen. Y - [1980-1994]</td>\n",
       "      <td>NaN</td>\n",
       "      <td>just eat</td>\n",
       "      <td>2019-01-11</td>\n",
       "      <td>21:00:00</td>\n",
       "      <td>0.0</td>\n",
       "      <td>eur</td>\n",
       "      <td>NaN</td>\n",
       "      <td>...</td>\n",
       "      <td>NaN</td>\n",
       "      <td>0.0</td>\n",
       "      <td>NaN</td>\n",
       "      <td>NaN</td>\n",
       "      <td>ile de france</td>\n",
       "      <td>val d oise</td>\n",
       "      <td>cergy</td>\n",
       "      <td>0</td>\n",
       "      <td>1</td>\n",
       "      <td>0</td>\n",
       "    </tr>\n",
       "    <tr>\n",
       "      <th>4</th>\n",
       "      <td>5</td>\n",
       "      <td>NaN</td>\n",
       "      <td>Gen. Z - [1995-2010]</td>\n",
       "      <td>NaN</td>\n",
       "      <td>deliveroo</td>\n",
       "      <td>2019-12-15</td>\n",
       "      <td>20:00:00</td>\n",
       "      <td>25.3</td>\n",
       "      <td>eur</td>\n",
       "      <td>NaN</td>\n",
       "      <td>...</td>\n",
       "      <td>2.5</td>\n",
       "      <td>4.0</td>\n",
       "      <td>o'tacos</td>\n",
       "      <td>latin american - mexican</td>\n",
       "      <td>ile de france</td>\n",
       "      <td>seine saint denis</td>\n",
       "      <td>aubervilliers</td>\n",
       "      <td>0</td>\n",
       "      <td>0</td>\n",
       "      <td>1</td>\n",
       "    </tr>\n",
       "  </tbody>\n",
       "</table>\n",
       "<p>5 rows × 22 columns</p>\n",
       "</div>"
      ],
      "text/plain": [
       "   row_nb  synthetic_gender synthetic_age_generation  is_loyalty_deliveroo  \\\n",
       "0       1               2.0     Gen. Y - [1980-1994]                   NaN   \n",
       "1       2               1.0     Gen. Z - [1995-2010]                   NaN   \n",
       "2       3               1.0     Gen. Z - [1995-2010]                   NaN   \n",
       "3       4               1.0     Gen. Y - [1980-1994]                   NaN   \n",
       "4       5               NaN     Gen. Z - [1995-2010]                   NaN   \n",
       "\n",
       "  merchant_name  order_date order_time  order_total_paid order_currency  \\\n",
       "0     deliveroo  2020-01-15   12:00:00              10.3            eur   \n",
       "1     uber eats  2019-01-24   19:00:00               7.6            eur   \n",
       "2     uber eats  2020-02-05   12:00:00              10.6            eur   \n",
       "3      just eat  2019-01-11   21:00:00               0.0            eur   \n",
       "4     deliveroo  2019-12-15   20:00:00              25.3            eur   \n",
       "\n",
       "   payment_method_name  ...  order_total_fees  order_total_promo  \\\n",
       "0                  NaN  ...               0.0                0.0   \n",
       "1  payment card - visa  ...               2.5                5.0   \n",
       "2               paypal  ...               3.7                0.0   \n",
       "3                  NaN  ...               NaN                0.0   \n",
       "4                  NaN  ...               2.5                4.0   \n",
       "\n",
       "             seller_name      seller_category_name  \\\n",
       "0            thai in box              asian - thai   \n",
       "1  nanbab - villeurbanne            asian - indian   \n",
       "2              los tacos  latin american - mexican   \n",
       "3                    NaN                       NaN   \n",
       "4                o'tacos  latin american - mexican   \n",
       "\n",
       "  order_item_delivery_address_region order_item_delivery_address_subregion  \\\n",
       "0                      ile de france                        hauts de seine   \n",
       "1               auvergne rhone alpes                                 rhone   \n",
       "2                          grand est                    meurthe et moselle   \n",
       "3                      ile de france                            val d oise   \n",
       "4                      ile de france                     seine saint denis   \n",
       "\n",
       "  order_item_delivery_address_city is_customer_month_ubereats  \\\n",
       "0                           sevres                          0   \n",
       "1                     villeurbanne                          1   \n",
       "2                        maxeville                          1   \n",
       "3                            cergy                          0   \n",
       "4                    aubervilliers                          0   \n",
       "\n",
       "  is_customer_month_justeat  is_customer_month_deliveroo  \n",
       "0                         0                            1  \n",
       "1                         0                            1  \n",
       "2                         0                            0  \n",
       "3                         1                            0  \n",
       "4                         0                            1  \n",
       "\n",
       "[5 rows x 22 columns]"
      ]
     },
     "execution_count": 27,
     "metadata": {},
     "output_type": "execute_result"
    }
   ],
   "source": [
    "df_transactions = pd.read_csv(r\"C:\\Users\\vanes\\Documents\\Formation DATA ANALYST by DATABIRD\\Projet final BOLT\\Data\\databird-synthesized-transactions-extract.csv\")\n",
    "df_transactions.head()"
   ]
  },
  {
   "cell_type": "code",
   "execution_count": 34,
   "id": "68e5c1e9",
   "metadata": {
    "ExecuteTime": {
     "end_time": "2022-07-18T20:46:07.839223Z",
     "start_time": "2022-07-18T20:46:07.822585Z"
    }
   },
   "outputs": [
    {
     "data": {
      "text/plain": [
       "(807676, 22)"
      ]
     },
     "execution_count": 34,
     "metadata": {},
     "output_type": "execute_result"
    }
   ],
   "source": [
    "df_transactions.shape # nbres de lignes et de colonnes"
   ]
  },
  {
   "cell_type": "code",
   "execution_count": 35,
   "id": "8e516280",
   "metadata": {
    "ExecuteTime": {
     "end_time": "2022-07-18T20:46:42.427802Z",
     "start_time": "2022-07-18T20:46:42.412371Z"
    }
   },
   "outputs": [
    {
     "data": {
      "text/plain": [
       "row_nb                                     int64\n",
       "synthetic_gender                         float64\n",
       "synthetic_age_generation                  object\n",
       "is_loyalty_deliveroo                     float64\n",
       "merchant_name                             object\n",
       "order_date                                object\n",
       "order_time                                object\n",
       "order_total_paid                         float64\n",
       "order_currency                            object\n",
       "payment_method_name                       object\n",
       "order_delivery_fee                       float64\n",
       "order_processing_fee                     float64\n",
       "order_total_fees                         float64\n",
       "order_total_promo                        float64\n",
       "seller_name                               object\n",
       "seller_category_name                      object\n",
       "order_item_delivery_address_region        object\n",
       "order_item_delivery_address_subregion     object\n",
       "order_item_delivery_address_city          object\n",
       "is_customer_month_ubereats                 int64\n",
       "is_customer_month_justeat                  int64\n",
       "is_customer_month_deliveroo                int64\n",
       "dtype: object"
      ]
     },
     "execution_count": 35,
     "metadata": {},
     "output_type": "execute_result"
    }
   ],
   "source": [
    "df_transactions.dtypes # Types de chaques colonnes"
   ]
  },
  {
   "cell_type": "code",
   "execution_count": null,
   "id": "3dfe82cf",
   "metadata": {},
   "outputs": [],
   "source": []
  }
 ],
 "metadata": {
  "kernelspec": {
   "display_name": "Python 3 (ipykernel)",
   "language": "python",
   "name": "python3"
  },
  "language_info": {
   "codemirror_mode": {
    "name": "ipython",
    "version": 3
   },
   "file_extension": ".py",
   "mimetype": "text/x-python",
   "name": "python",
   "nbconvert_exporter": "python",
   "pygments_lexer": "ipython3",
   "version": "3.9.7"
  },
  "toc": {
   "base_numbering": 1,
   "nav_menu": {},
   "number_sections": true,
   "sideBar": true,
   "skip_h1_title": false,
   "title_cell": "Table of Contents",
   "title_sidebar": "Contents",
   "toc_cell": false,
   "toc_position": {},
   "toc_section_display": true,
   "toc_window_display": false
  }
 },
 "nbformat": 4,
 "nbformat_minor": 5
}
